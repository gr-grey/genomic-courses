{
  "nbformat": 4,
  "nbformat_minor": 0,
  "metadata": {
    "colab": {
      "provenance": [],
      "authorship_tag": "ABX9TyNmeudCfCTg1y5QUlfbN/Go",
      "include_colab_link": true
    },
    "kernelspec": {
      "name": "python3",
      "display_name": "Python 3"
    },
    "language_info": {
      "name": "python"
    }
  },
  "cells": [
    {
      "cell_type": "markdown",
      "metadata": {
        "id": "view-in-github",
        "colab_type": "text"
      },
      "source": [
        "<a href=\"https://colab.research.google.com/github/gr-grey/genomic-courses/blob/main/boyer_moore_matching.ipynb\" target=\"_parent\"><img src=\"https://colab.research.google.com/assets/colab-badge.svg\" alt=\"Open In Colab\"/></a>"
      ]
    },
    {
      "cell_type": "markdown",
      "source": [
        "# Boyer-Moore matching algorithm\n",
        "\n",
        "We'll implement the Boyer-Moore algorithm and use it to match short DNA reads to a genome. \n",
        "\n",
        "We will compare Boyer-Moore and naive exact match by checking\n",
        ">  (a) the number of character comparisons performed and \n",
        ">\n",
        ">  (b) the number of alignments tried. \n",
        "\n",
        "These measurements indicate the amount of calcualtion/time needed for the algorithms.\n",
        "\n",
        "-------\n",
        "\n",
        "## Coding project\n",
        "\n",
        "Download the genome file (part of human chromosome 1) and address the questions below.\n",
        "\n",
        "Q1. How many alignments does Boyer-Moore try when matching the string GGCGCGGTGGCTCACGCCTGTAATCCCAGCACTTTGGGAGGCCGAGG (derived from human Alu sequences) to the excerpt of human chromosome 1?\n",
        "\n",
        "Q2. How many alignments does the naive exact matching algorithm try when matching the string GGCGCGGTGGCTCACGCCTGTAATCCCAGCACTTTGGGAGGCCGAGG (derived from human Alu sequences) to the excerpt of human chromosome 1?\n",
        "\n",
        "Q3. How many character comparisons does the naive exact matching algorithm try when matching the string GGCGCGGTGGCTCACGCCTGTAATCCCAGCACTTTGGGAGGCCGAGG (derived from human Alu sequences) to the excerpt of human chromosome 1?\n",
        "\n",
        "Files needed:\n",
        "\n",
        "The Python module for Boyer-Moore preprocessing:\n",
        "\n",
        "http://d28rh4a8wq0iu5.cloudfront.net/ads1/code/bm_preproc.py\n",
        "\n",
        "This module provides the BoyerMoore class, which encapsulates the preprocessing info used by the boyer_moore function above. Second, download the provided excerpt of human chromosome 1:\n",
        "\n",
        "The reference genome:\n",
        "\n",
        "http://d28rh4a8wq0iu5.cloudfront.net/ads1/data/chr1.GRCh38.excerpt.fasta\n",
        "\n"
      ],
      "metadata": {
        "id": "QsIbATpLLgdq"
      }
    },
    {
      "cell_type": "code",
      "source": [
        "# get files needed\n",
        "\n",
        "# the module that preprocessing P,\n",
        "# builds the look up table\n",
        "# for the bad character rule and good suffix rule\n",
        "\n",
        "!wget http://d28rh4a8wq0iu5.cloudfront.net/ads1/code/bm_preproc.py\n",
        "\n",
        "# genome file\n",
        "!wget http://d28rh4a8wq0iu5.cloudfront.net/ads1/data/chr1.GRCh38.excerpt.fasta"
      ],
      "metadata": {
        "colab": {
          "base_uri": "https://localhost:8080/"
        },
        "id": "2JDc73KDLhHq",
        "outputId": "3d21ad96-7802-4bb2-fc83-11e1d7bb03d5"
      },
      "execution_count": 5,
      "outputs": [
        {
          "output_type": "stream",
          "name": "stdout",
          "text": [
            "--2023-04-12 14:47:19--  http://d28rh4a8wq0iu5.cloudfront.net/ads1/code/bm_preproc.py\n",
            "Resolving d28rh4a8wq0iu5.cloudfront.net (d28rh4a8wq0iu5.cloudfront.net)... 13.32.192.207, 13.32.192.185, 13.32.192.17, ...\n",
            "Connecting to d28rh4a8wq0iu5.cloudfront.net (d28rh4a8wq0iu5.cloudfront.net)|13.32.192.207|:80... connected.\n",
            "HTTP request sent, awaiting response... 200 OK\n",
            "Length: 9400 (9.2K) [application/octet-stream]\n",
            "Saving to: ‘bm_preproc.py.1’\n",
            "\n",
            "\rbm_preproc.py.1       0%[                    ]       0  --.-KB/s               \rbm_preproc.py.1     100%[===================>]   9.18K  --.-KB/s    in 0s      \n",
            "\n",
            "2023-04-12 14:47:19 (21.9 MB/s) - ‘bm_preproc.py.1’ saved [9400/9400]\n",
            "\n",
            "--2023-04-12 14:47:19--  http://d28rh4a8wq0iu5.cloudfront.net/ads1/data/chr1.GRCh38.excerpt.fasta\n",
            "Resolving d28rh4a8wq0iu5.cloudfront.net (d28rh4a8wq0iu5.cloudfront.net)... 13.32.192.207, 13.32.192.185, 13.32.192.17, ...\n",
            "Connecting to d28rh4a8wq0iu5.cloudfront.net (d28rh4a8wq0iu5.cloudfront.net)|13.32.192.207|:80... connected.\n",
            "HTTP request sent, awaiting response... 200 OK\n",
            "Length: 810105 (791K) [application/octet-stream]\n",
            "Saving to: ‘chr1.GRCh38.excerpt.fasta.1’\n",
            "\n",
            "chr1.GRCh38.excerpt 100%[===================>] 791.12K  --.-KB/s    in 0.01s   \n",
            "\n",
            "2023-04-12 14:47:19 (75.1 MB/s) - ‘chr1.GRCh38.excerpt.fasta.1’ saved [810105/810105]\n",
            "\n"
          ]
        }
      ]
    },
    {
      "cell_type": "code",
      "source": [
        "# read and store genome\n",
        "\n",
        "def readGenome(fastAfile): \n",
        "    genome = ''\n",
        "    with open(fastAfile, 'r') as f:\n",
        "        for line in f:\n",
        "            if not line[0] == '>':\n",
        "                genome += line.rstrip()\n",
        "    return genome\n",
        "\n",
        "genome = readGenome('./chr1.GRCh38.excerpt.fasta')"
      ],
      "metadata": {
        "id": "qWciMBuiOQl9"
      },
      "execution_count": 6,
      "outputs": []
    },
    {
      "cell_type": "markdown",
      "source": [
        "## Q1. Boyer-Moore"
      ],
      "metadata": {
        "id": "cVAFxzBk7FIC"
      }
    },
    {
      "cell_type": "code",
      "source": [
        "from bm_preproc import *\n",
        "def boyer_moore_with_counts(p, p_bm, t):\n",
        "    i = 0 # current alignemnt/ offset of checking\n",
        "    occurrences = []\n",
        "    num_alignments, num_char_compred = 0, 0 \n",
        "    while i < len(t) - len(p) + 1: # the last checking point before p goes out of bounds\n",
        "        num_alignments += 1\n",
        "        shift = 1\n",
        "        mismatched = False\n",
        "        for j in range(len(p) - 1, -1, -1): # j goes from the index of last char in p, then second last, all the way to 0\n",
        "            num_char_compred += 1\n",
        "            if p[j] != t[i+j]: # found mismatch\n",
        "                shift_bc = p_bm.bad_character_rule(j, t[i+j]) # bad character rule\n",
        "                shift_gs = p_bm.good_suffix_rule(j) # good suffix rule\n",
        "                shift = max(shift_bc, shift_gs)\n",
        "                mismatched = True\n",
        "                break\n",
        "        if not mismatched: # entire p matched\n",
        "            occurrences.append(i)\n",
        "            shift_gs = p_bm.match_skip()\n",
        "            shift = max(shift, shift_gs)\n",
        "\n",
        "        i += shift\n",
        "\n",
        "    return occurrences, num_alignments, num_char_compred\n",
        "\n",
        "p = 'GGCGCGGTGGCTCACGCCTGTAATCCCAGCACTTTGGGAGGCCGAGG'\n",
        "p_bm = BoyerMoore(p)\n",
        "print(f'Number of alignments for Boyer Mooer: {boyer_moore_with_counts(p, p_bm, genome)[1]}')"
      ],
      "metadata": {
        "colab": {
          "base_uri": "https://localhost:8080/"
        },
        "id": "QrpGyKZ3P2Gi",
        "outputId": "f8511399-8bf6-4b0c-8eff-169227c16ab5"
      },
      "execution_count": 7,
      "outputs": [
        {
          "output_type": "stream",
          "name": "stdout",
          "text": [
            "Number of alignments for Boyer Mooer: 127974\n"
          ]
        }
      ]
    },
    {
      "cell_type": "markdown",
      "source": [
        "## Q2-3 Naive Exact Matching"
      ],
      "metadata": {
        "id": "311IK2MP7oTX"
      }
    },
    {
      "cell_type": "code",
      "source": [
        "def naive_with_counts(p,s): # exact match of p in s\n",
        "    occurrences = []\n",
        "    num_alignment, num_char_compared = 0, 0\n",
        "    for i in range(len(s) - len(p) + 1): # i indiates the alignment\n",
        "        num_alignment += 1\n",
        "        match = True\n",
        "        for j in range(len(p)):\n",
        "            num_char_compared += 1\n",
        "            if not p[j] == s[i+j]: # find mismatch\n",
        "                match = False\n",
        "                break\n",
        "        if match:\n",
        "            occurrences.append(i)\n",
        "    return occurrences, num_alignment, num_char_compared\n",
        "\n",
        "p = 'GGCGCGGTGGCTCACGCCTGTAATCCCAGCACTTTGGGAGGCCGAGG'\n",
        "print(f'Number of alignments in naive exact matching {naive_with_counts(p, genome)[1]}')\n",
        "print(f'Number of chars compared in naive exact matching {naive_with_counts(p, genome)[2]}')"
      ],
      "metadata": {
        "colab": {
          "base_uri": "https://localhost:8080/"
        },
        "id": "_8Z8mLvSOyfS",
        "outputId": "dccf1972-8411-4a74-ab49-8202a5d25076"
      },
      "execution_count": 8,
      "outputs": [
        {
          "output_type": "stream",
          "name": "stdout",
          "text": [
            "Number of alignments in naive exact matching 799954\n",
            "Number of chars compared in naive exact matching 984143\n"
          ]
        }
      ]
    },
    {
      "cell_type": "markdown",
      "source": [
        "-------\n",
        "\n",
        "Appendix (this is a text box)\n",
        "========\n",
        "\n",
        "## Boymer_Moore Class Implementation\n",
        "\n",
        "Showing the content of the bm_preproc.py for reference\n",
        "\n",
        "Creating a p_bm object that preprocesses pattern p,\n",
        "implementing the look up tables for the bad character rule and the good suffix rule.\n",
        "\n",
        "```python\n",
        "#!/usr/bin/python3\n",
        "\n",
        "\"\"\"bm_preproc.py: Boyer-Moore preprocessing.\"\"\"\n",
        "\n",
        "__author__ = \"Ben Langmead\"\n",
        "\n",
        "def z_array(s):\n",
        "    \"\"\" Use Z algorithm (Gusfield theorem 1.4.1) to preprocess s \"\"\"\n",
        "    assert len(s) > 1\n",
        "    z = [len(s)] + [0] * (len(s)-1)\n",
        "\n",
        "    # Initial comparison of s[1:] with prefix\n",
        "    for i in range(1, len(s)):\n",
        "        if s[i] == s[i-1]:\n",
        "            z[1] += 1\n",
        "        else:\n",
        "            break\n",
        "\n",
        "    r, l = 0, 0\n",
        "    if z[1] > 0:\n",
        "        r, l = z[1], 1\n",
        "\n",
        "    for k in range(2, len(s)):\n",
        "        assert z[k] == 0\n",
        "        if k > r:\n",
        "            # Case 1\n",
        "            for i in range(k, len(s)):\n",
        "                if s[i] == s[i-k]:\n",
        "                    z[k] += 1\n",
        "                else:\n",
        "                    break\n",
        "            r, l = k + z[k] - 1, k\n",
        "        else:\n",
        "            # Case 2\n",
        "            # Calculate length of beta\n",
        "            nbeta = r - k + 1\n",
        "            zkp = z[k - l]\n",
        "            if nbeta > zkp:\n",
        "                # Case 2a: zkp wins\n",
        "                z[k] = zkp\n",
        "            else:\n",
        "                # Case 2b: Compare characters just past r\n",
        "                nmatch = 0\n",
        "                for i in range(r+1, len(s)):\n",
        "                    if s[i] == s[i - k]:\n",
        "                        nmatch += 1\n",
        "                    else:\n",
        "                        break\n",
        "                l, r = k, r + nmatch\n",
        "                z[k] = r - k + 1\n",
        "    return z\n",
        "\n",
        "\n",
        "def n_array(s):\n",
        "    \"\"\" Compile the N array (Gusfield theorem 2.2.2) from the Z array \"\"\"\n",
        "    return z_array(s[::-1])[::-1]\n",
        "\n",
        "\n",
        "def big_l_prime_array(p, n):\n",
        "    \"\"\" Compile L' array (Gusfield theorem 2.2.2) using p and N array.\n",
        "        L'[i] = largest index j less than n such that N[j] = |P[i:]| \"\"\"\n",
        "    lp = [0] * len(p)\n",
        "    for j in range(len(p)-1):\n",
        "        i = len(p) - n[j]\n",
        "        if i < len(p):\n",
        "            lp[i] = j + 1\n",
        "    return lp\n",
        "\n",
        "\n",
        "def big_l_array(p, lp):\n",
        "    \"\"\" Compile L array (Gusfield theorem 2.2.2) using p and L' array.\n",
        "        L[i] = largest index j less than n such that N[j] >= |P[i:]| \"\"\"\n",
        "    l = [0] * len(p)\n",
        "    l[1] = lp[1]\n",
        "    for i in range(2, len(p)):\n",
        "        l[i] = max(l[i-1], lp[i])\n",
        "    return l\n",
        "\n",
        "\n",
        "def small_l_prime_array(n):\n",
        "    \"\"\" Compile lp' array (Gusfield theorem 2.2.4) using N array. \"\"\"\n",
        "    small_lp = [0] * len(n)\n",
        "    for i in range(len(n)):\n",
        "        if n[i] == i+1:  # prefix matching a suffix\n",
        "            small_lp[len(n)-i-1] = i+1\n",
        "    for i in range(len(n)-2, -1, -1):  # \"smear\" them out to the left\n",
        "        if small_lp[i] == 0:\n",
        "            small_lp[i] = small_lp[i+1]\n",
        "    return small_lp\n",
        "\n",
        "\n",
        "def good_suffix_table(p):\n",
        "    \"\"\" Return tables needed to apply good suffix rule. \"\"\"\n",
        "    n = n_array(p)\n",
        "    lp = big_l_prime_array(p, n)\n",
        "    return lp, big_l_array(p, lp), small_l_prime_array(n)\n",
        "\n",
        "\n",
        "def good_suffix_mismatch(i, big_l_prime, small_l_prime):\n",
        "    \"\"\" Given a mismatch at offset i, and given L/L' and l' arrays,\n",
        "        return amount to shift as determined by good suffix rule. \"\"\"\n",
        "    length = len(big_l_prime)\n",
        "    assert i < length\n",
        "    if i == length - 1:\n",
        "        return 0\n",
        "    i += 1  # i points to leftmost matching position of P\n",
        "    if big_l_prime[i] > 0:\n",
        "        return length - big_l_prime[i]\n",
        "    return length - small_l_prime[i]\n",
        "\n",
        "\n",
        "def good_suffix_match(small_l_prime):\n",
        "    \"\"\" Given a full match of P to T, return amount to shift as\n",
        "        determined by good suffix rule. \"\"\"\n",
        "    return len(small_l_prime) - small_l_prime[1]\n",
        "\n",
        "\n",
        "def dense_bad_char_tab(p, amap):\n",
        "    \"\"\" Given pattern string and list with ordered alphabet characters, create\n",
        "        and return a dense bad character table.  Table is indexed by offset\n",
        "        then by character. \"\"\"\n",
        "    tab = []\n",
        "    nxt = [0] * len(amap)\n",
        "    for i in range(0, len(p)):\n",
        "        c = p[i]\n",
        "        assert c in amap\n",
        "        tab.append(nxt[:])\n",
        "        nxt[amap[c]] = i+1\n",
        "    return tab\n",
        "\n",
        "\n",
        "class BoyerMoore(object):\n",
        "    \"\"\" Encapsulates pattern and associated Boyer-Moore preprocessing. \"\"\"\n",
        "\n",
        "    def __init__(self, p, alphabet='ACGT'):\n",
        "        # Create map from alphabet characters to integers\n",
        "        self.amap = {alphabet[i]: i for i in range(len(alphabet))}\n",
        "        # Make bad character rule table\n",
        "        self.bad_char = dense_bad_char_tab(p, self.amap)\n",
        "        # Create good suffix rule table\n",
        "        _, self.big_l, self.small_l_prime = good_suffix_table(p)\n",
        "\n",
        "    def bad_character_rule(self, i, c):\n",
        "        \"\"\" Return # skips given by bad character rule at offset i \"\"\"\n",
        "        assert c in self.amap\n",
        "        assert i < len(self.bad_char)\n",
        "        ci = self.amap[c]\n",
        "        return i - (self.bad_char[i][ci]-1)\n",
        "\n",
        "    def good_suffix_rule(self, i):\n",
        "        \"\"\" Given a mismatch at offset i, return amount to shift\n",
        "            as determined by (weak) good suffix rule. \"\"\"\n",
        "        length = len(self.big_l)\n",
        "        assert i < length\n",
        "        if i == length - 1:\n",
        "            return 0\n",
        "        i += 1  # i points to leftmost matching position of P\n",
        "        if self.big_l[i] > 0:\n",
        "            return length - self.big_l[i]\n",
        "        return length - self.small_l_prime[i]\n",
        "\n",
        "    def match_skip(self):\n",
        "        \"\"\" Return amount to shift in case where P matches T \"\"\"\n",
        "        return len(self.small_l_prime) - self.small_l_prime[1]\n",
        "```"
      ],
      "metadata": {
        "id": "a2O_FdHaYPj-"
      }
    }
  ]
}
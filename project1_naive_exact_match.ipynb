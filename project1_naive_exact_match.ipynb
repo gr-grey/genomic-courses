{
  "nbformat": 4,
  "nbformat_minor": 0,
  "metadata": {
    "colab": {
      "provenance": [],
      "authorship_tag": "ABX9TyP+kbOX+lytYhwrvxgEi9nn",
      "include_colab_link": true
    },
    "kernelspec": {
      "name": "python3",
      "display_name": "Python 3"
    },
    "language_info": {
      "name": "python"
    }
  },
  "cells": [
    {
      "cell_type": "markdown",
      "metadata": {
        "id": "view-in-github",
        "colab_type": "text"
      },
      "source": [
        "<a href=\"https://colab.research.google.com/github/gr-grey/genomic-courses/blob/main/project1_naive_exact_match.ipynb\" target=\"_parent\"><img src=\"https://colab.research.google.com/assets/colab-badge.svg\" alt=\"Open In Colab\"/></a>"
      ]
    },
    {
      "cell_type": "markdown",
      "source": [
        "# Naive Exact Match\n",
        "\n",
        "Find patterns that matches the given \"lambda virus\" genome sequence\n",
        "https://d28rh4a8wq0iu5.cloudfront.net/ads1/data/lambda_virus.fa\n",
        "\n",
        "Q1. How many times does AGGT or its reverse complement ACCT occur in the lambda virus genome? E.g. if AGGT occurs 10 times and ACCT occurs 12 times, you should report 22.\n",
        "\n",
        "Q2. How many times does TTAA or its reverse complement occur in the lambda virus genome? Hint: TTAA and its reverse complement are equal, so remember not to double count.\n",
        "\n",
        "Q3. What is the offset of the leftmost occurrence of ACTAAGT or its reverse complement in the Lambda virus genome? E.g. if the leftmost occurrence of ACTAAGT is at offset 40 (0-based) and the leftmost occurrence of its reverse complement ACTTAGT is at offset 29, then report 29.\n",
        "\n",
        "Q4. What is the offset of the leftmost occurrence of AGTCGA or its reverse complement in the Lambda virus genome?"
      ],
      "metadata": {
        "id": "GOn2Q3qgGqfO"
      }
    },
    {
      "cell_type": "markdown",
      "source": [
        "## Solution\n",
        "\n",
        "We need to read the FastA file and store the entire genome as a string.\n",
        "\n",
        "Write a naive exact match function that returns matching location of the patern p, given the sequence s.\n",
        "\n",
        "To consider also reverse complements, we need a function that turns a sequence string to its reverse complements, then get the reverse complements of both p and s.\n",
        "If s does not equal to its reverse completment, we'll check the reverse complement matching and append the results."
      ],
      "metadata": {
        "id": "R1CKUY8RH4mx"
      }
    },
    {
      "cell_type": "code",
      "execution_count": null,
      "metadata": {
        "id": "nVnU_qj_pga_",
        "colab": {
          "base_uri": "https://localhost:8080/"
        },
        "outputId": "fff42fc7-9e0b-4e04-cd4e-84df0175fe46"
      },
      "outputs": [
        {
          "output_type": "stream",
          "name": "stdout",
          "text": [
            "--2023-04-07 19:32:02--  https://d28rh4a8wq0iu5.cloudfront.net/ads1/data/lambda_virus.fa\n",
            "Resolving d28rh4a8wq0iu5.cloudfront.net (d28rh4a8wq0iu5.cloudfront.net)... 13.249.90.54, 13.249.90.71, 13.249.90.4, ...\n",
            "Connecting to d28rh4a8wq0iu5.cloudfront.net (d28rh4a8wq0iu5.cloudfront.net)|13.249.90.54|:443... connected.\n",
            "HTTP request sent, awaiting response... 200 OK\n",
            "Length: 49270 (48K) [application/octet-stream]\n",
            "Saving to: ‘lambda_virus.fa.2’\n",
            "\n",
            "lambda_virus.fa.2   100%[===================>]  48.12K  --.-KB/s    in 0.01s   \n",
            "\n",
            "2023-04-07 19:32:02 (4.00 MB/s) - ‘lambda_virus.fa.2’ saved [49270/49270]\n",
            "\n"
          ]
        }
      ],
      "source": [
        "# download genome file\n",
        "!wget https://d28rh4a8wq0iu5.cloudfront.net/ads1/data/lambda_virus.fa"
      ]
    },
    {
      "cell_type": "code",
      "source": [
        "# read FastA file and return the whole genome as a string\n",
        "def readGenome(fastAfile): \n",
        "    genome = ''\n",
        "    with open(fastAfile, 'r') as f:\n",
        "        for line in f:\n",
        "            if not line[0] == '>': # the line contains string\n",
        "                # strip the endline char, add to genome\n",
        "                genome += line.rstrip() \n",
        "    return genome\n",
        "\n",
        "\n",
        "genome = readGenome('lambda_virus.fa')"
      ],
      "metadata": {
        "id": "1EStJP1AJwvi"
      },
      "execution_count": null,
      "outputs": []
    },
    {
      "cell_type": "code",
      "source": [
        "def naive(p,s): # exact match of p in s\n",
        "    occurrences = []\n",
        "    for i in range(len(s) - len(p) + 1):\n",
        "        match = True\n",
        "        for j in range(len(p)):\n",
        "            if not p[j] == s[i+j]: # find mismatch\n",
        "                match = False\n",
        "                break\n",
        "        if match:\n",
        "            occurrences.append(i)\n",
        "    return occurrences\n",
        "    \n",
        "def reverseComplement(s):\n",
        "    complement = {'A':'T', 'G':'C', 'C':'G', 'T':'A', 'N':'N'}\n",
        "    rc_seq = ''\n",
        "    for base in s:\n",
        "        rc = complement[base]\n",
        "        rc_seq = rc + rc_seq # prepend so the compelment is reversed\n",
        "    return rc_seq\n",
        "\n",
        "# navie with checking of reverse complement\n",
        "def naive_rc(p, s): \n",
        "    occurrences = naive(p, s)\n",
        "    p_rc = reverseComplement(p)\n",
        "    # skip checking if p equals to its reverse complement\n",
        "    if not p == p_rc:\n",
        "        occurrences.extend(naive(p_rc, s))\n",
        "    return occurrences "
      ],
      "metadata": {
        "id": "YYs8r8LXKUXm"
      },
      "execution_count": null,
      "outputs": []
    },
    {
      "cell_type": "code",
      "source": [
        "# Q1\n",
        "print(len(naive_rc('AGGT', genome)))\n",
        "# Q2\n",
        "print(len(naive_rc('TTAA', genome)))\n",
        "# Q3\n",
        "print(min(naive_rc('ACTAAGT', genome)))\n",
        "# Q4\n",
        "print(min(naive_rc('AGTCGA', genome)))"
      ],
      "metadata": {
        "colab": {
          "base_uri": "https://localhost:8080/"
        },
        "id": "w9cecJoxLAkb",
        "outputId": "bb4742cd-560a-4efc-b0e3-1575f394e25e"
      },
      "execution_count": null,
      "outputs": [
        {
          "output_type": "stream",
          "name": "stdout",
          "text": [
            "306\n",
            "195\n",
            "26028\n",
            "450\n"
          ]
        }
      ]
    },
    {
      "cell_type": "markdown",
      "source": [
        "Q5. Make a new version of the naive function called naive_2mm that allows up to 2 mismatches per occurrence. Unlike for the previous questions, do not consider the reverse complement here. How many times does TTCAAGCC occur in the Lambda virus genome when allowing up to 2 mismatches?\n",
        "\n",
        "Q6. What is the offset of the leftmost occurrence of AGGAGGTT in the Lambda virus genome when allowing up to 2 mismatches?"
      ],
      "metadata": {
        "id": "6AcWs6okNGUl"
      }
    },
    {
      "cell_type": "markdown",
      "source": [
        "## Solution\n",
        "\n",
        "To allow mismathces, we'll use a counter variable to record number of mismatches.\n",
        "When mismatches happen, instead of immediately break out of the comparing loop, we check if the number of mismatches has exceeded the threshold, and only break when it does (in this case >2). "
      ],
      "metadata": {
        "id": "Mok0ExW2NLYu"
      }
    },
    {
      "cell_type": "code",
      "source": [
        "# naive matching with maximum of m errors\n",
        "def naive_mm(p,s,m): \n",
        "    occurrences = []\n",
        "    for i in range(len(s) - len(p) + 1):\n",
        "        match = True\n",
        "        mistakes = 0\n",
        "        for j in range(len(p)):\n",
        "            if not p[j] == s[i+j]: # find mismatch\n",
        "                mistakes += 1\n",
        "                if mistakes > m: # exceed error limits\n",
        "                    match = False\n",
        "                    break\n",
        "        if match:\n",
        "            occurrences.append(i)\n",
        "    return occurrences"
      ],
      "metadata": {
        "id": "iqUkERF6Nu0X"
      },
      "execution_count": null,
      "outputs": []
    },
    {
      "cell_type": "code",
      "source": [
        "# Q5\n",
        "print(len(naive_mm('TTCAAGCC', genome, 2)))\n",
        "# Q6\n",
        "print(min(naive_mm('AGGAGGTT', genome, 2)))"
      ],
      "metadata": {
        "colab": {
          "base_uri": "https://localhost:8080/"
        },
        "id": "bGqhgechN8wd",
        "outputId": "9f00a5bc-4e95-4daa-861e-05194bfecdfa"
      },
      "execution_count": null,
      "outputs": [
        {
          "output_type": "stream",
          "name": "stdout",
          "text": [
            "191\n",
            "49\n"
          ]
        }
      ]
    },
    {
      "cell_type": "markdown",
      "source": [
        "## Q7 Find the abnormal sequencing cycle\n",
        "\n",
        "Download and parse the provided FASTQ file containing real DNA sequencing reads derived from a human:\n",
        "\n",
        "https://d28rh4a8wq0iu5.cloudfront.net/ads1/data/ERR037900_1.first1000.fastq\n",
        "\n",
        "\n",
        "This dataset has something wrong with it; one of the sequencing cycles is poor quality.\n",
        "\n",
        "Report which sequencing cycle has the problem.  Remember that a sequencing cycle corresponds to a particular offset in all the reads. For example, if the leftmost read position seems to have a problem consistently across reads, report 0. If the fourth position from the left has the problem, report 3. Do whatever analysis you think is needed to identify the bad cycle. It might help to review the \"Analyzing reads by position\" video."
      ],
      "metadata": {
        "id": "2pzPPoq9ONH1"
      }
    },
    {
      "cell_type": "markdown",
      "source": [
        "## Solution\n",
        "\n",
        "We need to extract quality scores for each read from the FastQ file, store them in a 2d array.\n",
        "\n",
        "Then convert them into integers.\n",
        "\n",
        "For each position (each column), we'll calculate the mean score and plot the result to find out which site looks fishy."
      ],
      "metadata": {
        "id": "cHmoOSSNOr7y"
      }
    },
    {
      "cell_type": "code",
      "source": [
        "def readFastQ(filename):\n",
        "    sequences, qualities = [], []\n",
        "    with open(filename, 'r') as f:\n",
        "        while True:\n",
        "            f.readline() # first line is name, ignore\n",
        "            seq = f.readline().rstrip() # second line is sequence\n",
        "            f.readline() # third line is placeholder, ignore\n",
        "            qual = f.readline().rstrip() # fourth line is qualities\n",
        "            if len(seq) == 0: # reach the end of file\n",
        "                break\n",
        "            sequences.append(seq)\n",
        "            qualities.append(qual)\n",
        "    return sequences, qualities\n",
        "\n",
        "def phred33toQ(qchar):\n",
        "    return ord(qchar) - 33"
      ],
      "metadata": {
        "id": "_pv6OeJUOCne"
      },
      "execution_count": null,
      "outputs": []
    },
    {
      "cell_type": "code",
      "source": [
        "# Download file and extract quality as 2D array\n",
        "!wget https://d28rh4a8wq0iu5.cloudfront.net/ads1/data/ERR037900_1.first1000.fastq\n",
        "\n",
        "seqs, quals = readFastQ('ERR037900_1.first1000.fastq')"
      ],
      "metadata": {
        "colab": {
          "base_uri": "https://localhost:8080/"
        },
        "id": "WwHGiqn8Pabr",
        "outputId": "67c1fa9f-9a1d-4947-e8a6-2dd85b0e5ada"
      },
      "execution_count": null,
      "outputs": [
        {
          "output_type": "stream",
          "name": "stdout",
          "text": [
            "--2023-04-07 19:43:27--  https://d28rh4a8wq0iu5.cloudfront.net/ads1/data/ERR037900_1.first1000.fastq\n",
            "Resolving d28rh4a8wq0iu5.cloudfront.net (d28rh4a8wq0iu5.cloudfront.net)... 13.249.90.71, 13.249.90.4, 13.249.90.54, ...\n",
            "Connecting to d28rh4a8wq0iu5.cloudfront.net (d28rh4a8wq0iu5.cloudfront.net)|13.249.90.71|:443... connected.\n",
            "HTTP request sent, awaiting response... 200 OK\n",
            "Length: 241626 (236K) [application/octet-stream]\n",
            "Saving to: ‘ERR037900_1.first1000.fastq’\n",
            "\n",
            "\r          ERR037900   0%[                    ]       0  --.-KB/s               \rERR037900_1.first10 100%[===================>] 235.96K  --.-KB/s    in 0.03s   \n",
            "\n",
            "2023-04-07 19:43:27 (7.71 MB/s) - ‘ERR037900_1.first1000.fastq’ saved [241626/241626]\n",
            "\n"
          ]
        }
      ]
    },
    {
      "cell_type": "code",
      "source": [
        "# convert quals into 2d array of scores \n",
        "scores = []\n",
        "\n",
        "for qual in quals: # loop through each read\n",
        "  phredscores = []\n",
        "  for qchar in qual: # loop through each base\n",
        "    phredscores.append(phred33toQ(qchar))\n",
        "  scores.append(phredscores) \n",
        "\n",
        "# transpose the matrix so each row corresponds to one read position\n",
        "import numpy as np\n",
        "\n",
        "scores = np.transpose(scores)\n",
        "# calculate mean score for each row (each position)\n",
        "avescores = np.mean(scores, axis =1)\n",
        "\n",
        "# plot average score to find weird site\n",
        "import matplotlib.pyplot as plt \n",
        "\n",
        "plt.plot(np.arange(0,100), avescores, marker='o')\n",
        "\n",
        "plt.show()"
      ],
      "metadata": {
        "colab": {
          "base_uri": "https://localhost:8080/",
          "height": 434
        },
        "id": "FaRaNb0jPsKm",
        "outputId": "327470c5-965e-4b6e-94ab-a69e0f3d4ea9"
      },
      "execution_count": null,
      "outputs": [
        {
          "output_type": "display_data",
          "data": {
            "text/plain": [
              "<Figure size 640x480 with 1 Axes>"
            ],
            "image/png": "[encoded data removed]"
          },
          "metadata": {}
        }
      ]
    },
    {
      "cell_type": "code",
      "source": [
        "# We can see the big dip of quality at sites between 60 - 75\n",
        "# Zoom in to see which site it is\n",
        "\n",
        "plt.plot(np.arange(60,76), avescores[60:76], marker='o')\n",
        "\n",
        "plt.show()"
      ],
      "metadata": {
        "colab": {
          "base_uri": "https://localhost:8080/",
          "height": 430
        },
        "id": "2TWtLSfKQe7L",
        "outputId": "67753894-0c77-4d1d-f745-152d15e5970b"
      },
      "execution_count": null,
      "outputs": [
        {
          "output_type": "display_data",
          "data": {
            "text/plain": [
              "<Figure size 640x480 with 1 Axes>"
            ],
            "image/png": "[encoded data removed]"
          },
          "metadata": {}
        }
      ]
    },
    {
      "cell_type": "markdown",
      "source": [
        "We can find out site 66 is problematic.\n",
        "\n",
        "We can double check by pulling the scores at site 66, or plotting the same region in box plot."
      ],
      "metadata": {
        "id": "5mjrnQAjQzXm"
      }
    },
    {
      "cell_type": "code",
      "source": [
        "print(scores[66])"
      ],
      "metadata": {
        "colab": {
          "base_uri": "https://localhost:8080/"
        },
        "id": "J8df_tlHQuZc",
        "outputId": "44c7efe4-8753-4696-b799-9085e2e14a0a"
      },
      "execution_count": null,
      "outputs": [
        {
          "output_type": "stream",
          "name": "stdout",
          "text": [
            "[ 2  2  2  2  2  2  2  2  2  2  2  2  2  2  2  2  2  2  2  2  2  2  2  2\n",
            "  2  2  2  2  2  2  2  2  2  2  2  2  2  2  2  2  2  2  2  2  2  2  2  2\n",
            "  2  2  2  2  2  2  2  2  2  2  2  2  2  2  2  2 18  2  2  2  2  2  2  2\n",
            "  2  2  2  2  2  2  2  2  2  2  2  2  2  2  2  2  2  2  2  2 34  2  2  2\n",
            "  2 40  2  2  2  2  2  2 38  2  2  2  2  2  2  2 23  2  2  2  2  2  2  2\n",
            "  2  2  2  2  2  2  2  2  2  2  2  2  2 35 34  2  2  2  2  2  2  2  2 18\n",
            "  2  2  2  2  2  2  2  2  2  2  2  2  2  2  2  2  2  2  2 34  2  2  2  2\n",
            "  2  2  2  2  2 25  2  2  2  2 20  2  2  2  2  2 31  2  2  2  2  2 38  2\n",
            "  2  2  2  2  2  2  2  2  2  2 37  2  2  2  2  2  2  2  2  2  2  2  2  2\n",
            "  2 36  2  2  2  2  2  2  2  2  2  2  2 30  2  2  2  2  2 39  2 35  2  2\n",
            "  2  2  2  2  2  2  2  2  2  2  2 39  2 30  2  2  2  2  2  2  2  2  2  2\n",
            "  2  2  2  2  2  2  2  2  2  2  2  2 32  2  2  2  2  2  2  2  2  2  2  2\n",
            "  2  2  2  2  2  2  2  2  2  2  2 38  2 30  2  2  2  2  2  2  2  2  2  2\n",
            "  2  2  2  2  2  2  2  2  2  2  2  2  2  2  2  2  2  2  2  2  2  2  2  2\n",
            "  2  2  2  2  2  2  2  2  2  2  2 37 37  2  2  2  2  2  2  2  2  2  2 20\n",
            " 36 35 31  2  2  2  2  2  2  2  2 19  2  2  2  2  2  2  2  2  2  2  2 16\n",
            "  2  2 20  2  2  2  2  2  2  2  2  2  2  2  2  2  2  2  2  2  2  2  2  2\n",
            "  2  2  2  2  2  2  2  2  2  2  2  2  2  2  2  2 19  2  2  2  2  2  2  2\n",
            "  2  2  2  2  2  2  2  2  2  2  2  2  2  2  2  2  2  2  2  2  2  2  2  2\n",
            "  2  2  2  2  2  2  2  2  2 31  2  2  2  2  2  2  2  2  2  2  2  2  2  2\n",
            "  2  2  2  2  2  2  2  2  2 39  2  2  2  2  2  2  2  2 38  2  2 39  2  2\n",
            "  2  2  2  2  2  2  2 20  2  2  2  2  2  2  2 39  2  2  2  2  2 39  2  2\n",
            "  2  2  2  2 39  2  2  2  2  2  2  2  2  2  2  2  2  2  2  2  2  2  2  2\n",
            "  2  2  2  2  2  2  2  2  2  2  2  2  2  2  2  2  2  2  2  2  2  2 27  2\n",
            "  2  2  2  2  2  2 16  2  2  2  2  2  2  2  2  2  2  2  2  2  2  2 37  2\n",
            "  2  2  2  2  2  2  2  2  2  2 37  2  2  2  2  2 38 39  2  2  2  2  2  2\n",
            "  2  2  2  2  2  2 38  2  2  2  2  2  2 37  2 36  2  2 36  2  2  2  2  2\n",
            "  2 38  2  2  2  2  2 40  2  2 39  2  2  2  2  2  2  2  2  2  2  2  2  2\n",
            "  2  2  2  2  2  2  2 39  2  2  2  2  2  2  2 38  2  2  2  2  2  2  2  2\n",
            "  2  2  2  2  2  2  2  2  2 39  2  2  2  2 38  2  2  2  2  2  2  2  2  2\n",
            "  2  2  2  2  2  2  2  2  2  2 38  2  2  2  2  2  2  2  2  2  2  2  2  2\n",
            "  2  2  2  2  2 39  2  2  2  2  2  2  2  2  2  2  2  2  2  2  2  2  2  2\n",
            " 39  2  2 40  2  2  2  2  2  2  2  2 37  2  2  2  2  2 27  2  2  2  2  2\n",
            "  2  2  2  2  2  2  2  2  2 38  2  2  2  2  2  2  2  2  2  2  2  2 39  2\n",
            "  2  2  2  2  2  2  2  2  2  2  2  2  2 22  2 32  2  2  2  2  2  2  2  2\n",
            "  2  2  2  2  2  2  2  2  2  2  2  2  2  2  2  2  2  2  2  2  2  2  2  2\n",
            "  2  2  2  2  2  2  2  2  2  2 37  2  2  2  2 36  2  2  2  2  2  2  2  2\n",
            "  2  2  2 36  2  2  2  2  2  2  2 36  2  2  2 36  2  2  2  2  2  2  2 19\n",
            "  2  2  2  2  2  2  2  2  2  2 20  2  2  2  2  2  2  2  2  2  2  2  2  2\n",
            "  2  2 31  2 37  2  2 36  2  2  2 36  2  2  2  2  2  2  2  2  2  2  2  2\n",
            "  2  2  2  2  2  2  2  2  2  2  2  2 39  2  2  2  2  2  2  2  2  2  2  2\n",
            "  2  2  2  2  2 38  2  2  2  2  2  2  2  2  2  2]\n"
          ]
        }
      ]
    },
    {
      "cell_type": "code",
      "source": [
        "import matplotlib.pyplot as plt\n",
        "import numpy as np\n",
        "\n",
        "# create a boxplot of the data\n",
        "fig, ax = plt.subplots()\n",
        "ax.boxplot(scores[:, 60 : 76])\n",
        "\n",
        "ax.set_xticklabels(np.arange(60,76))\n",
        "# add labels and titles\n",
        "ax.set_xlabel('sites')\n",
        "ax.set_ylabel('phred scores')\n",
        "ax.set_title('Qual Scores from site 66 - 75')\n",
        "\n",
        "# display the plot\n",
        "plt.show()"
      ],
      "metadata": {
        "colab": {
          "base_uri": "https://localhost:8080/",
          "height": 472
        },
        "id": "pIFW5MsaRKlm",
        "outputId": "d40cec0a-41f3-4a94-8551-bc560f561f22"
      },
      "execution_count": null,
      "outputs": [
        {
          "output_type": "display_data",
          "data": {
            "text/plain": [
              "<Figure size 640x480 with 1 Axes>"
            ],
            "image/png": "[encoded data removed]"
          },
          "metadata": {}
        }
      ]
    },
    {
      "cell_type": "markdown",
      "source": [
        "We can see that indeed there are a lot of low scores (2) and a lot of low outliers at site 66."
      ],
      "metadata": {
        "id": "xXppL4Q3ReZU"
      }
    },
    {
      "cell_type": "code",
      "source": [],
      "metadata": {
        "id": "p7Lfim08RU4i"
      },
      "execution_count": null,
      "outputs": []
    }
  ]
}
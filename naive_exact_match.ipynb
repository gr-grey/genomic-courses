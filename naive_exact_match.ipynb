{
  "nbformat": 4,
  "nbformat_minor": 0,
  "metadata": {
    "colab": {
      "provenance": [],
      "authorship_tag": "ABX9TyPCY0gh3H1t4douNIVb6HXQ",
      "include_colab_link": true
    },
    "kernelspec": {
      "name": "python3",
      "display_name": "Python 3"
    },
    "language_info": {
      "name": "python"
    }
  },
  "cells": [
    {
      "cell_type": "markdown",
      "metadata": {
        "id": "view-in-github",
        "colab_type": "text"
      },
      "source": [
        "<a href=\"https://colab.research.google.com/github/gr-grey/genomic-courses/blob/main/naive_exact_match.ipynb\" target=\"_parent\"><img src=\"https://colab.research.google.com/assets/colab-badge.svg\" alt=\"Open In Colab\"/></a>"
      ]
    },
    {
      "cell_type": "markdown",
      "source": [
        "# Naive Exact Match\n",
        "\n",
        "Find patterns that matches the given \"lambda virus\" genome sequence\n",
        "https://d28rh4a8wq0iu5.cloudfront.net/ads1/data/lambda_virus.fa\n",
        "\n",
        "Q1. How many times does AGGT or its reverse complement ACCT occur in the lambda virus genome? E.g. if AGGT occurs 10 times and ACCT occurs 12 times, you should report 22.\n",
        "\n",
        "Q2. How many times does TTAA or its reverse complement occur in the lambda virus genome? Hint: TTAA and its reverse complement are equal, so remember not to double count.\n",
        "\n",
        "Q3. What is the offset of the leftmost occurrence of ACTAAGT or its reverse complement in the Lambda virus genome? E.g. if the leftmost occurrence of ACTAAGT is at offset 40 (0-based) and the leftmost occurrence of its reverse complement ACTTAGT is at offset 29, then report 29.\n",
        "\n",
        "Q4. What is the offset of the leftmost occurrence of AGTCGA or its reverse complement in the Lambda virus genome?"
      ],
      "metadata": {
        "id": "GOn2Q3qgGqfO"
      }
    },
    {
      "cell_type": "markdown",
      "source": [
        "## Solution\n",
        "\n",
        "We need to read the FastA file and store the entire genome as a string.\n",
        "\n",
        "We need a naive exact match function that returns matching location of the patern p, given the sequence s.\n",
        "\n",
        "To consider reverse complements, we need a function that turns a sequence string to its reverse complements, then get the reverse complements of both p and s.\n",
        "If s does not equal to its reverse complement, we'll check the reverse complement matching and append the results."
      ],
      "metadata": {
        "id": "R1CKUY8RH4mx"
      }
    },
    {
      "cell_type": "code",
      "execution_count": null,
      "metadata": {
        "id": "nVnU_qj_pga_",
        "colab": {
          "base_uri": "https://localhost:8080/"
        },
        "outputId": "fff42fc7-9e0b-4e04-cd4e-84df0175fe46"
      },
      "outputs": [
        {
          "output_type": "stream",
          "name": "stdout",
          "text": [
            "--2023-04-07 19:32:02--  https://d28rh4a8wq0iu5.cloudfront.net/ads1/data/lambda_virus.fa\n",
            "Resolving d28rh4a8wq0iu5.cloudfront.net (d28rh4a8wq0iu5.cloudfront.net)... 13.249.90.54, 13.249.90.71, 13.249.90.4, ...\n",
            "Connecting to d28rh4a8wq0iu5.cloudfront.net (d28rh4a8wq0iu5.cloudfront.net)|13.249.90.54|:443... connected.\n",
            "HTTP request sent, awaiting response... 200 OK\n",
            "Length: 49270 (48K) [application/octet-stream]\n",
            "Saving to: ‘lambda_virus.fa.2’\n",
            "\n",
            "lambda_virus.fa.2   100%[===================>]  48.12K  --.-KB/s    in 0.01s   \n",
            "\n",
            "2023-04-07 19:32:02 (4.00 MB/s) - ‘lambda_virus.fa.2’ saved [49270/49270]\n",
            "\n"
          ]
        }
      ],
      "source": [
        "# download genome file\n",
        "!wget https://d28rh4a8wq0iu5.cloudfront.net/ads1/data/lambda_virus.fa"
      ]
    },
    {
      "cell_type": "code",
      "source": [
        "# read FastA file and return the whole genome as a string\n",
        "def readGenome(fastAfile):\n",
        "    with open(fastAfile, 'r') as f:\n",
        "        for line in f:\n",
        "            if not line[0] == '>': # the line contains string\n",
        "                # strip the endline char, add to genome\n",
        "                genome += line.rstrip() \n",
        "    return genome\n",
        "\n",
        "genome = readGenome('lambda_virus.fa')"
      ],
      "metadata": {
        "id": "1EStJP1AJwvi"
      },
      "execution_count": null,
      "outputs": []
    },
    {
      "cell_type": "code",
      "source": [
        "def naive(p,s): # exact match of p in s\n",
        "    occurrences = []\n",
        "    # check all possible locations in s\n",
        "    for i in range(len(s) - len(p) + 1):\n",
        "        match = True\n",
        "        for j in range(len(p)): # check if substring matches\n",
        "            if not p[j] == s[i+j]: # find mismatch; move on\n",
        "                match = False\n",
        "                break\n",
        "        if match: # all chars matched; record\n",
        "            occurrences.append(i)\n",
        "    return occurrences\n",
        "    \n",
        "def reverseComplement(s):\n",
        "    complement = {'A':'T', 'G':'C', 'C':'G', 'T':'A', 'N':'N'}\n",
        "    rc_seq = ''\n",
        "    for base in s:\n",
        "        rc = complement[base]\n",
        "        rc_seq = rc + rc_seq # prepend so the compelment is reversed\n",
        "    return rc_seq\n",
        "\n",
        "# navie with checking of reverse complement\n",
        "def naive_rc(p, s): \n",
        "    occurrences = naive(p, s)\n",
        "    p_rc = reverseComplement(p)\n",
        "    # skip checking if p equals to its reverse complement\n",
        "    if not p == p_rc:\n",
        "        occurrences.extend(naive(p_rc, s))\n",
        "    return occurrences "
      ],
      "metadata": {
        "id": "YYs8r8LXKUXm"
      },
      "execution_count": null,
      "outputs": []
    },
    {
      "cell_type": "code",
      "source": [
        "# Q1\n",
        "print(len(naive_rc('AGGT', genome)))\n",
        "# Q2\n",
        "print(len(naive_rc('TTAA', genome)))\n",
        "# Q3\n",
        "print(min(naive_rc('ACTAAGT', genome)))\n",
        "# Q4\n",
        "print(min(naive_rc('AGTCGA', genome)))"
      ],
      "metadata": {
        "colab": {
          "base_uri": "https://localhost:8080/"
        },
        "id": "w9cecJoxLAkb",
        "outputId": "bb4742cd-560a-4efc-b0e3-1575f394e25e"
      },
      "execution_count": null,
      "outputs": [
        {
          "output_type": "stream",
          "name": "stdout",
          "text": [
            "306\n",
            "195\n",
            "26028\n",
            "450\n"
          ]
        }
      ]
    },
    {
      "cell_type": "markdown",
      "source": [
        "Q5. Make a new version of the naive function called naive_2mm that allows up to 2 mismatches per occurrence. Unlike for the previous questions, do not consider the reverse complement here. How many times does TTCAAGCC occur in the Lambda virus genome when allowing up to 2 mismatches?\n",
        "\n",
        "Q6. What is the offset of the leftmost occurrence of AGGAGGTT in the Lambda virus genome when allowing up to 2 mismatches?"
      ],
      "metadata": {
        "id": "6AcWs6okNGUl"
      }
    },
    {
      "cell_type": "markdown",
      "source": [
        "## Solution\n",
        "\n",
        "To allow mismatches, we'll use a counter variable to record number of mismatches.\n",
        "When mismatches happen, instead of immediately break out of the comparing loop, we check if the number of mismatches has exceeded the threshold, and only break when it does (in this case >2). "
      ],
      "metadata": {
        "id": "Mok0ExW2NLYu"
      }
    },
    {
      "cell_type": "code",
      "source": [
        "# naive matching with maximum of m errors\n",
        "def naive_mm(p,s,m): \n",
        "    occurrences = []\n",
        "    for i in range(len(s) - len(p) + 1):\n",
        "        match = True\n",
        "        mistakes = 0\n",
        "        for j in range(len(p)):\n",
        "            if not p[j] == s[i+j]: # find mismatch\n",
        "                mistakes += 1\n",
        "                if mistakes > m: # exceed error limits\n",
        "                    match = False\n",
        "                    break\n",
        "        if match:\n",
        "            occurrences.append(i)\n",
        "    return occurrences"
      ],
      "metadata": {
        "id": "iqUkERF6Nu0X"
      },
      "execution_count": null,
      "outputs": []
    },
    {
      "cell_type": "code",
      "source": [
        "# Q5\n",
        "print(len(naive_mm('TTCAAGCC', genome, 2)))\n",
        "# Q6\n",
        "print(min(naive_mm('AGGAGGTT', genome, 2)))"
      ],
      "metadata": {
        "colab": {
          "base_uri": "https://localhost:8080/"
        },
        "id": "bGqhgechN8wd",
        "outputId": "9f00a5bc-4e95-4daa-861e-05194bfecdfa"
      },
      "execution_count": null,
      "outputs": [
        {
          "output_type": "stream",
          "name": "stdout",
          "text": [
            "191\n",
            "49\n"
          ]
        }
      ]
    }
  ]
}
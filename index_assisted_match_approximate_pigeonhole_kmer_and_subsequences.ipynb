{
  "nbformat": 4,
  "nbformat_minor": 0,
  "metadata": {
    "colab": {
      "provenance": [],
      "authorship_tag": "ABX9TyOM56GHZG2wBU8RGB2ifsG9",
      "include_colab_link": true
    },
    "kernelspec": {
      "name": "python3",
      "display_name": "Python 3"
    },
    "language_info": {
      "name": "python"
    }
  },
  "cells": [
    {
      "cell_type": "markdown",
      "metadata": {
        "id": "view-in-github",
        "colab_type": "text"
      },
      "source": [
        "<a href=\"https://colab.research.google.com/github/gr-grey/genomic-courses/blob/main/index_assisted_match_approximate_pigeonhole_kmer_and_subsequences.ipynb\" target=\"_parent\"><img src=\"https://colab.research.google.com/assets/colab-badge.svg\" alt=\"Open In Colab\"/></a>"
      ]
    },
    {
      "cell_type": "markdown",
      "source": [
        "# Index assited approximate matching: kmer, sorted list, pigeonhole principle and subsequence\n",
        "\n",
        "Here we implement the index assisted mathcing algorithm by recording substrings/subsequences of text T into a sorted list, and implement the approximate matching according to pigeonhole principle. \n",
        "\n",
        "## Coding problem:\n",
        "\n",
        "Download the genome file (part of human chromosome 1) and address the questions below.\n",
        "\n",
        "### Kmer index in sorted list and approximate matching\n",
        "\n",
        "Implement the pigeonhole principle using Index to find exact matches for the partitions. Assume P always has length 24, and that we are looking for approximate matches with up to 2 mismatches (substitutions). We will use an 8-mer index. \n",
        "\n",
        "Write a function that, given a length-24 pattern P and given an Index object built on 8-mers, finds all approximate occurrences of P within T with up to 2 mismatches. Insertions and deletions are not allowed. Don't consider any reverse complements.\n",
        "\n",
        "Q1.How many times does the string GGCGCGGTGGCTCACGCCTGTAAT, which is derived from a human Alu sequence, occur with up to 2 substitutions in the excerpt of human chromosome 1?  (Don't consider reverse complements here.)\n",
        "\n",
        "- Note: Multiple index hits might direct you to the same match multiple times, but be careful not to count a match more than once.\n",
        "  \n",
        "Q2. Using the instructions given in Question 4, how many total index hits are there when searching for occurrences of GGCGCGGTGGCTCACGCCTGTAAT with up to 2 substitutions in the excerpt of human chromosome 1?  (Don't consider reverse complements here.)  \n",
        "\n"
      ],
      "metadata": {
        "id": "QsIbATpLLgdq"
      }
    },
    {
      "cell_type": "code",
      "source": [
        "# genome file\n",
        "!wget http://d28rh4a8wq0iu5.cloudfront.net/ads1/data/chr1.GRCh38.excerpt.fasta\n",
        "\n",
        "# read and store genome\n",
        "\n",
        "def readGenome(fastAfile): \n",
        "    genome = ''\n",
        "    with open(fastAfile, 'r') as f:\n",
        "        for line in f:\n",
        "            if not line[0] == '>':\n",
        "                genome += line.rstrip()\n",
        "    return genome\n",
        "\n",
        "genome = readGenome('./chr1.GRCh38.excerpt.fasta')"
      ],
      "metadata": {
        "id": "qWciMBuiOQl9",
        "colab": {
          "base_uri": "https://localhost:8080/"
        },
        "outputId": "59224428-1b5c-4460-f609-413da7451748"
      },
      "execution_count": null,
      "outputs": [
        {
          "output_type": "stream",
          "name": "stdout",
          "text": [
            "--2023-04-15 10:07:46--  http://d28rh4a8wq0iu5.cloudfront.net/ads1/data/chr1.GRCh38.excerpt.fasta\n",
            "Resolving d28rh4a8wq0iu5.cloudfront.net (d28rh4a8wq0iu5.cloudfront.net)... 13.32.84.71, 13.32.84.31, 13.32.84.231, ...\n",
            "Connecting to d28rh4a8wq0iu5.cloudfront.net (d28rh4a8wq0iu5.cloudfront.net)|13.32.84.71|:80... connected.\n",
            "HTTP request sent, awaiting response... 200 OK\n",
            "Length: 810105 (791K) [application/octet-stream]\n",
            "Saving to: ‘chr1.GRCh38.excerpt.fasta’\n",
            "\n",
            "chr1.GRCh38.excerpt 100%[===================>] 791.12K  --.-KB/s    in 0.1s    \n",
            "\n",
            "2023-04-15 10:07:47 (5.77 MB/s) - ‘chr1.GRCh38.excerpt.fasta’ saved [810105/810105]\n",
            "\n"
          ]
        }
      ]
    },
    {
      "cell_type": "code",
      "source": [
        "# creat sorted indices and query method\n",
        "import bisect # for binary search\n",
        "class Index(object): \n",
        "    def __init__(self, t, k): # kmer index for t\n",
        "        self.k = k\n",
        "        self.index = []\n",
        "        for i in range(len(t) - k + 1):\n",
        "            self.index.append((t[i: i+k], i)) # each element is (kmer_string, offset of kmer string)\n",
        "        self.index.sort()\n",
        "    \n",
        "    def query(self, p):\n",
        "        kmer = p[:self.k]\n",
        "        i = bisect.bisect_left(self.index, (kmer, -1)) # i is the position in the sorted index list where we find the first /most left hit\n",
        "        hits = []\n",
        "        while i < len(self.index): # keep going to the right to record all hits\n",
        "            if self.index[i][0] != kmer:\n",
        "                break\n",
        "            hits.append(self.index[i][1])\n",
        "            i += 1\n",
        "        return hits\n",
        "\n",
        "\n",
        "def queryIndex(p, t, index):\n",
        "    k = index.k\n",
        "    offsets = []\n",
        "    for i in index.query(p): # check if each kmer match/hit is an exact match, i.e. if the rest of string mataches\n",
        "        if i + len(p) > len(t): # p goes out of bound\n",
        "            continue\n",
        "        if p[k:] == t[i+k: i + len(p)]: \n",
        "            offsets.append(i)\n",
        "    return offsets\n",
        "\n",
        "def approximate_match_index(p, t, index, n): # need k to build a kmer index obj\n",
        "    k = index.k\n",
        "\n",
        "    # divide p to n+1 segments\n",
        "    seg_len = int(round(len(p) /  (n+1)))\n",
        "    all_matches = set() # avoid recording the same match from multiple segment at same alignment/offset position\n",
        "\n",
        "    num_hits = 0\n",
        "\n",
        "    for i in range(n+1): # loop trough each segment p[i * seg_len, (i+1) * seg_len], last segment edge case\n",
        "        start = i * seg_len\n",
        "        end = min( (i+1) * seg_len, len(p) ) # the last segment end should not surpass len(p)\n",
        "        seg = p[start:end]\n",
        "\n",
        "        seg_matches = queryIndex(seg, t, index) \n",
        "        num_hits += len(seg_matches)\n",
        "\n",
        "        # check if rest of p matched within the allowed mistake counts\n",
        "        for m in seg_matches:\n",
        "            if m - start < 0 or m - start + len(p) > len(t):\n",
        "                continue # p goes out of t in this alignment\n",
        "            mismatches = 0\n",
        "            for j in range(start): # check p[:start]\n",
        "                if p[j] != t[m - start +j]:\n",
        "                    mismatches += 1\n",
        "                    if mismatches > n:\n",
        "                        break\n",
        "            for j in range(end, len(p)): # check p[end:] \n",
        "                if p[j] != t[m - start +j]:\n",
        "                    mismatches += 1\n",
        "                    if mismatches >n:\n",
        "                        break\n",
        "            if mismatches <= n:\n",
        "                all_matches.add(m - start)\n",
        "    return list(all_matches), num_hits\n",
        "\n",
        "p2 = 'GGCGCGGTGGCTCACGCCTGTAAT'\n",
        "index = Index(genome, 8)\n",
        "\n",
        "print(f'Number of matches with upto 2 mismatches: {len(approximate_match_index(p2, genome, index, 2)[0])}')\n",
        "print(f'Total index hits: {approximate_match_index(p2, genome, index, 2)[1]}')\n"
      ],
      "metadata": {
        "colab": {
          "base_uri": "https://localhost:8080/"
        },
        "id": "W1prokGZP2PX",
        "outputId": "ff3b1d56-7a9f-45b2-c3ef-036e9ab8cf87"
      },
      "execution_count": null,
      "outputs": [
        {
          "output_type": "stream",
          "name": "stdout",
          "text": [
            "Number of matches with upto 2 mismatches: 19\n",
            "Total index hits: 90\n"
          ]
        }
      ]
    },
    {
      "cell_type": "markdown",
      "source": [
        "## Q3 Subsequence Index\n",
        "\n",
        "Let's examine whether there is a benefit to using an index built using subsequences of T rather than substrings, as we discussed in the \"Variations on k-mer indexes\" video.  We'll consider subsequences involving every N characters.  For example, if we split ATATAT into two substring partitions, we would get partitions ATA (the first half) and TAT (second half).  But if we split ATATAT into two  subsequences  by taking every other character, we would get AAA (first, third and fifth characters) and TTT (second, fourth and sixth).\n",
        "\n",
        "Another way to visualize this is using numbers to show how each character of P is allocated to a partition.  Splitting a length-6 pattern into two substrings could be represented as 111222, and splitting into two subsequences of every other character could be represented as 121212.\n",
        "\n",
        "Implement a SubseqIndex class that build index with every Nth (ival) character, which would be a more general implementation of Index.\n",
        "\n",
        "Write a function that, given a length-24 pattern P and given a SubseqIndex object built with k = 8 and ival = 3, finds all approximate occurrences of P within T with up to 2 mismatches.\n",
        "\n",
        "Q3. When using this function, how many total index hits are there when searching for GGCGCGGTGGCTCACGCCTGTAAT with up to 2 substitutions in the excerpt of human chromosome 1?  (Again, don't consider reverse complements.)"
      ],
      "metadata": {
        "id": "WhfPe7ZgSDRJ"
      }
    },
    {
      "cell_type": "code",
      "source": [
        "import bisect\n",
        "   \n",
        "class SubseqIndex(object):\n",
        "    \"\"\" Holds a subsequence index for a text T \"\"\"\n",
        "    \n",
        "    def __init__(self, t, k, ival):\n",
        "        \"\"\" Create index from all subsequences consisting of k characters\n",
        "            spaced ival positions apart.  E.g., SubseqIndex(\"ATAT\", 2, 2)\n",
        "            extracts (\"AA\", 0) and (\"TT\", 1). \"\"\"\n",
        "        self.k = k  # num characters per subsequence extracted\n",
        "        self.ival = ival  # space between them; 1=adjacent, 2=every other, etc\n",
        "        self.index = []\n",
        "        self.span = 1 + ival * (k - 1)\n",
        "        for i in range(len(t) - self.span + 1):  # for each subseq\n",
        "            self.index.append((t[i:i+self.span:ival], i))  # add (subseq, offset)\n",
        "        self.index.sort()  # alphabetize by subseq\n",
        "    \n",
        "    def query(self, p):\n",
        "        \"\"\" Return index hits for first subseq of p \"\"\"\n",
        "        subseq = p[:self.span:self.ival]  # query with first subseq\n",
        "        i = bisect.bisect_left(self.index, (subseq, -1))  # binary search\n",
        "        hits = []\n",
        "        while i < len(self.index):  # collect matching index entries\n",
        "            if self.index[i][0] != subseq:\n",
        "                break\n",
        "            hits.append(self.index[i][1])\n",
        "            i += 1\n",
        "        return hits"
      ],
      "metadata": {
        "id": "vmxIYJWSP2Sp"
      },
      "execution_count": null,
      "outputs": []
    },
    {
      "cell_type": "code",
      "source": [
        "def approx_query_subseq(p, t, subseq_ind, n):\n",
        "    k = subseq_ind.k\n",
        "\n",
        "    num_index_hits = 0\n",
        "    offsets = set()\n",
        "    for i in range(k): # need to query p[0:], p[1:], ..., p[k-1:]\n",
        "        hits = subseq_ind.query(p[i:]) \n",
        "        num_index_hits += len(hits)\n",
        "        for h in hits: # check if the entire p matches\n",
        "            start = h - i\n",
        "            end = h - i + len(p)\n",
        "            if start < 0 or end > len(t):\n",
        "                continue\n",
        "            mismatch = 0\n",
        "            for j in range(len(p)):\n",
        "                if p[j] != t[start + j]:\n",
        "                    mismatch += 1\n",
        "                    if mismatch > n:\n",
        "                        break\n",
        "            if mismatch <= n:\n",
        "                offsets.add(start)\n",
        "    return offsets, num_index_hits\n",
        "\n",
        "\n",
        "read = 'GGCGCGGTGGCTCACGCCTGTAAT'\n",
        "subseq_ind = SubseqIndex(genome, 8, 3)\n",
        "\n",
        "occurrences, num_index_hits = approx_query_subseq(read, genome, subseq_ind, 2)\n",
        "print(f'Total index hits: {num_index_hits}')"
      ],
      "metadata": {
        "colab": {
          "base_uri": "https://localhost:8080/"
        },
        "id": "GzOvjpg7P2V0",
        "outputId": "c53ca064-475f-4e9f-a839-3ed6c096885e"
      },
      "execution_count": null,
      "outputs": [
        {
          "output_type": "stream",
          "name": "stdout",
          "text": [
            "Total index hits: 79\n"
          ]
        }
      ]
    }
  ]
}